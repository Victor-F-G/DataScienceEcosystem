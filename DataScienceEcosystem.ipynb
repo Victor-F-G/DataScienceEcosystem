{
  "metadata": {
    "kernelspec": {
      "name": "python",
      "display_name": "Python (Pyodide)",
      "language": "python"
    },
    "language_info": {
      "codemirror_mode": {
        "name": "python",
        "version": 3
      },
      "file_extension": ".py",
      "mimetype": "text/x-python",
      "name": "python",
      "nbconvert_exporter": "python",
      "pygments_lexer": "ipython3",
      "version": "3.8"
    }
  },
  "nbformat_minor": 5,
  "nbformat": 4,
  "cells": [
    {
      "id": "88933689-e514-4686-8c7b-cc39a135209c",
      "cell_type": "markdown",
      "source": "# Data Science Tools and Ecosystem\n",
      "metadata": {}
    },
    {
      "id": "6df4068b-7284-4dd7-9c33-b64f899f6e40",
      "cell_type": "markdown",
      "source": "In this notebook, Data Science Tools and Ecosystem are summarized.\n\n",
      "metadata": {}
    },
    {
      "id": "41a57afe-14b3-4e05-90f4-7fde6ad6a060",
      "cell_type": "markdown",
      "source": "Some of the popular languages that Data Scientists use are:",
      "metadata": {}
    },
    {
      "id": "2d2f6c00-5db1-4fe7-963f-15463ea82470",
      "cell_type": "markdown",
      "source": "1. Python\n2. R\n3. SQL",
      "metadata": {}
    },
    {
      "id": "6f2392ed-efd5-4ef1-9a7a-6b1c75a47d31",
      "cell_type": "markdown",
      "source": "Some of the popular languages that Data Scientists use are:",
      "metadata": {}
    },
    {
      "id": "3c7ec065-a228-4699-8604-24dd3fd215b8",
      "cell_type": "markdown",
      "source": "1. Pandas\n2. NumPy\n3. Scikit-learn",
      "metadata": {}
    },
    {
      "id": "6c989e94-143a-4ff8-99ae-ab4e3338d23f",
      "cell_type": "markdown",
      "source": "| Data Science Tools |\n|--------------------|\n| Jupyter Notebook   |\n| Apache Spark       |\n| RStudio            |\n",
      "metadata": {}
    },
    {
      "id": "9c3fa7d1-3770-4504-a7b1-84b91449be8c",
      "cell_type": "markdown",
      "source": "### Below are a few examples of evaluating arithmetic expressions in Python.",
      "metadata": {}
    },
    {
      "id": "9b8dacad-089b-4282-86a0-c83503af6620",
      "cell_type": "code",
      "source": "result = (3 * 4) + 5\nresult",
      "metadata": {
        "trusted": true
      },
      "outputs": [
        {
          "execution_count": 1,
          "output_type": "execute_result",
          "data": {
            "text/plain": "17"
          },
          "metadata": {}
        }
      ],
      "execution_count": 1
    },
    {
      "id": "81c44f5a-34cd-4e07-9405-61fc4db34f7b",
      "cell_type": "code",
      "source": "result",
      "metadata": {
        "trusted": true
      },
      "outputs": [
        {
          "execution_count": 2,
          "output_type": "execute_result",
          "data": {
            "text/plain": "17"
          },
          "metadata": {}
        }
      ],
      "execution_count": 2
    },
    {
      "id": "73b5e9c0-7b94-42b5-a319-643cefa348b4",
      "cell_type": "markdown",
      "source": " This a simple arithmetic expression to mutiply then add integers",
      "metadata": {}
    },
    {
      "id": "8804c991-af3a-47af-b60e-68a083baf73b",
      "cell_type": "code",
      "source": "# This will convert 200 minutes to hours by dividing by 60\nhours = 200 / 60\nhours",
      "metadata": {
        "trusted": true
      },
      "outputs": [
        {
          "execution_count": 3,
          "output_type": "execute_result",
          "data": {
            "text/plain": "3.3333333333333335"
          },
          "metadata": {}
        }
      ],
      "execution_count": 3
    },
    {
      "id": "c9a32cc4-58a9-40e4-9491-c4f8bad49eaa",
      "cell_type": "markdown",
      "source": "**Objectives:**\n- List popular languages for Data Science\n- List common libraries for Data Science\n- Evaluate simple arithmetic expressions in Python\n",
      "metadata": {}
    },
    {
      "id": "39caaace-4075-4e73-b7f9-7ac1950e8dca",
      "cell_type": "markdown",
      "source": "## Author\nVíctor Fernández González",
      "metadata": {}
    },
    {
      "id": "cbef1224-1cb4-4b6b-a84a-b42182f63d06",
      "cell_type": "code",
      "source": "",
      "metadata": {
        "trusted": true
      },
      "outputs": [],
      "execution_count": null
    }
  ]
}